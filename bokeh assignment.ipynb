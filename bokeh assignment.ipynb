{
 "cells": [
  {
   "cell_type": "code",
   "execution_count": null,
   "id": "c32549ce-9a5e-4a59-9c08-2b4bc15e0f4b",
   "metadata": {},
   "outputs": [],
   "source": [
    "Q1. How can you create a Bokeh plot using Python code?"
   ]
  },
  {
   "cell_type": "code",
   "execution_count": null,
   "id": "84ce7500-a47b-40f7-93ba-17420a87363c",
   "metadata": {},
   "outputs": [],
   "source": [
    "from bokeh.plotting import figure, show\n",
    "from bokeh.io import output_notebook\n",
    "output_notebook()\n",
    "\n",
    "fig = figure(title=\"Bokeh Plotting\", x_axis_label=\"X-Axis\", y_axis_label=\"Y-Axis\")\n",
    "\n",
    "x = [5, 4, 3, 2, 1]\n",
    "y = [4, 5, 2, 7, 6]\n",
    "fig.circle(x, y, size=10, color=\"blue\")\n",
    "show(fig)"
   ]
  },
  {
   "cell_type": "code",
   "execution_count": null,
   "id": "2c7edf30-bf51-4925-b5d2-33430eebf192",
   "metadata": {},
   "outputs": [],
   "source": []
  },
  {
   "cell_type": "code",
   "execution_count": null,
   "id": "ce674448-5f2f-4614-b750-7a3e14934b88",
   "metadata": {},
   "outputs": [],
   "source": [
    "Q2. What are glyphs in Bokeh, and how can you add them to a Bokeh plot? Explain with an example."
   ]
  },
  {
   "cell_type": "code",
   "execution_count": null,
   "id": "3ec5d98f-f51d-4dbf-8fce-2c9976574378",
   "metadata": {},
   "outputs": [],
   "source": [
    "fig = figure(title=\"Bokeh Glyph Example\", x_axis_label=\"X\", y_axis_label=\"Y\")\n",
    "\n",
    "fig.circle(x, y, size=10, color=\"blue\", alpha=0.8)\n",
    "fig.square(x, y, size=8, color=\"green\", alpha=0.6)\n",
    "fig.line(x, y, line_width=2, color=\"red\")\n",
    "\n",
    "show(fig)\n"
   ]
  },
  {
   "cell_type": "code",
   "execution_count": null,
   "id": "eda65358-6d1b-4b21-905a-8fda5332e1c6",
   "metadata": {},
   "outputs": [],
   "source": []
  },
  {
   "cell_type": "code",
   "execution_count": null,
   "id": "16778e14-af97-4f9c-b170-14c78818011d",
   "metadata": {},
   "outputs": [],
   "source": [
    "Q3. How can you customize the appearance of a Bokeh plot, including the axes, title, and legend?"
   ]
  },
  {
   "cell_type": "code",
   "execution_count": null,
   "id": "edf2fe15-7fc0-4384-b9e2-59e0a91e39a5",
   "metadata": {},
   "outputs": [],
   "source": [
    "from bokeh.plotting import figure, show\n",
    "from bokeh.io import output_notebook\n",
    "\n",
    "output_notebook()\n",
    "\n",
    "x = [1, 2, 3, 4, 5]\n",
    "y = [6, 7, 2, 4, 8]\n",
    "y1 = [8, 5, 3, 2, 1]\n",
    "\n",
    "fig = figure(title=\"Bokeh Plot\", x_axis_label=\"X axis\", y_axis_label=\"Y axis\")\n",
    "\n",
    "fig.xaxis.axis_label_text_color = \"blue\"\n",
    "fig.xaxis.major_label_text_font_style = \"bold\"\n",
    "\n",
    "fig.yaxis.axis_label_text_color = \"violet\"\n",
    "fig.yaxis.major_label_text_font_style = \"bold\"\n",
    "\n",
    "\n",
    "fig.title.text_color = \"red\"\n",
    "fig.title.text_font_size = \"30px\"\n",
    "fig.title.align = \"center\"\n",
    "\n",
    "\n",
    "fig.circle(x, y, size=10, color=\"green\", legend_label=\"Glyph1\")\n",
    "fig.circle(x, y1, size=10, color=\"purple\", legend_label=\"Glyph2\")\n",
    "\n",
    "\n",
    "fig.legend.title = \"Legend Title\"\n",
    "fig.legend.location = \"top_left\"\n",
    "fig.legend.background_fill_color = \"lightgray\"\n",
    "\n",
    "show(fig)\n"
   ]
  },
  {
   "cell_type": "code",
   "execution_count": null,
   "id": "7f19ea5e-1b11-406f-bc27-4c72ad2e6c90",
   "metadata": {},
   "outputs": [],
   "source": []
  },
  {
   "cell_type": "code",
   "execution_count": null,
   "id": "1cc3b1e6-ed31-43e8-bc82-b16c55b26981",
   "metadata": {},
   "outputs": [],
   "source": [
    "Q4. What is a Bokeh server, and how can you use it to create interactive plots that can be updated in\n",
    "real time?"
   ]
  },
  {
   "cell_type": "code",
   "execution_count": null,
   "id": "6decc131-4dae-424c-a593-eb8173a11095",
   "metadata": {},
   "outputs": [],
   "source": [
    "We can create interactive web apps with real-time data visualizations using the Bokeh server from the Bokeh library.\n",
    "\n",
    "To use the Bokeh server to create interactive plots that can be updated in real-time, we can follow these steps:\n",
    "\n",
    "Install Bokeh: First, make sure you have Bokeh installed on our computer.\n",
    "Import modules: We need to import the necessary modules from Bokeh for creating plots and running the Bokeh server.\n",
    "Create the plot: Now, we can create our plot using Bokeh's plotting functions and tools.\n",
    "ColumnDataSource: To make the plot interactive, we can use something called \"ColumnDataSource\" to hold the data that will be updated in real-time.\n",
    "Callbacks: Callbacks respond to user interactions. We can use Python callbacks or JavaScript callbacks. These callbacks update the data and trigger plot updates whenever \n",
    "a user interacts with the plot.\n",
    "Layout: Now, We need to arrange the plot and any other interactive widgets or elements in a layout.\n",
    "Bokeh Serve: Now, it's time to run the Bokeh server."
   ]
  },
  {
   "cell_type": "code",
   "execution_count": null,
   "id": "28716fd0-340a-43ce-bc4f-0cc63131b9c4",
   "metadata": {},
   "outputs": [],
   "source": []
  },
  {
   "cell_type": "code",
   "execution_count": null,
   "id": "f79c8122-8a66-4e6c-9c0d-4656db815f3c",
   "metadata": {},
   "outputs": [],
   "source": [
    "Q5. How can you embed a Bokeh plot into a web page or dashboard using Flask or Django?"
   ]
  },
  {
   "cell_type": "code",
   "execution_count": null,
   "id": "e2797c1e-bd6d-49a7-94db-7df1385a934c",
   "metadata": {},
   "outputs": [],
   "source": [
    "Using Bokeh's embed module, I can embed a Bokeh plot into a web page or dashboard using Flask or Django. It returns the JavaScript and HTML script tags to render the Bokeh plot.\n",
    "To display the plot, I include these components in my Flask or Django application template."
   ]
  },
  {
   "cell_type": "code",
   "execution_count": null,
   "id": "563d08e9-3869-44ca-8e66-591e85cd8ade",
   "metadata": {},
   "outputs": [],
   "source": []
  }
 ],
 "metadata": {
  "kernelspec": {
   "display_name": "Python 3 (ipykernel)",
   "language": "python",
   "name": "python3"
  },
  "language_info": {
   "codemirror_mode": {
    "name": "ipython",
    "version": 3
   },
   "file_extension": ".py",
   "mimetype": "text/x-python",
   "name": "python",
   "nbconvert_exporter": "python",
   "pygments_lexer": "ipython3",
   "version": "3.10.8"
  }
 },
 "nbformat": 4,
 "nbformat_minor": 5
}
